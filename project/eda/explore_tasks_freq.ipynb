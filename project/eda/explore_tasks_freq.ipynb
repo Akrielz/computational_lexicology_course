{
 "cells": [
  {
   "cell_type": "code",
   "execution_count": 13,
   "metadata": {
    "collapsed": true
   },
   "outputs": [],
   "source": [
    "import pandas as pd\n",
    "from pprint import pprint"
   ]
  },
  {
   "cell_type": "code",
   "execution_count": 3,
   "outputs": [],
   "source": [
    "data_path = \"../data/train_all_tasks.csv\"\n",
    "df = pd.read_csv(data_path)"
   ],
   "metadata": {
    "collapsed": false
   }
  },
  {
   "cell_type": "code",
   "execution_count": 4,
   "outputs": [
    {
     "data": {
      "text/plain": "                  rewire_id  \\\n0   sexism2022_english-7358   \n1   sexism2022_english-2367   \n2   sexism2022_english-3073   \n3  sexism2022_english-14895   \n4   sexism2022_english-4118   \n\n                                                text label_sexist  \\\n0              Damn, this writing was pretty chaotic   not sexist   \n1  Yeah, and apparently a bunch of misogynistic v...   not sexist   \n2       How the FUCK is this woman still an MP!!!???   not sexist   \n3  Understand. Know you're right. At same time I ...   not sexist   \n4     Surprized they didn't stop and rape some women   not sexist   \n\n  label_category label_vector  \n0           none         none  \n1           none         none  \n2           none         none  \n3           none         none  \n4           none         none  ",
      "text/html": "<div>\n<style scoped>\n    .dataframe tbody tr th:only-of-type {\n        vertical-align: middle;\n    }\n\n    .dataframe tbody tr th {\n        vertical-align: top;\n    }\n\n    .dataframe thead th {\n        text-align: right;\n    }\n</style>\n<table border=\"1\" class=\"dataframe\">\n  <thead>\n    <tr style=\"text-align: right;\">\n      <th></th>\n      <th>rewire_id</th>\n      <th>text</th>\n      <th>label_sexist</th>\n      <th>label_category</th>\n      <th>label_vector</th>\n    </tr>\n  </thead>\n  <tbody>\n    <tr>\n      <th>0</th>\n      <td>sexism2022_english-7358</td>\n      <td>Damn, this writing was pretty chaotic</td>\n      <td>not sexist</td>\n      <td>none</td>\n      <td>none</td>\n    </tr>\n    <tr>\n      <th>1</th>\n      <td>sexism2022_english-2367</td>\n      <td>Yeah, and apparently a bunch of misogynistic v...</td>\n      <td>not sexist</td>\n      <td>none</td>\n      <td>none</td>\n    </tr>\n    <tr>\n      <th>2</th>\n      <td>sexism2022_english-3073</td>\n      <td>How the FUCK is this woman still an MP!!!???</td>\n      <td>not sexist</td>\n      <td>none</td>\n      <td>none</td>\n    </tr>\n    <tr>\n      <th>3</th>\n      <td>sexism2022_english-14895</td>\n      <td>Understand. Know you're right. At same time I ...</td>\n      <td>not sexist</td>\n      <td>none</td>\n      <td>none</td>\n    </tr>\n    <tr>\n      <th>4</th>\n      <td>sexism2022_english-4118</td>\n      <td>Surprized they didn't stop and rape some women</td>\n      <td>not sexist</td>\n      <td>none</td>\n      <td>none</td>\n    </tr>\n  </tbody>\n</table>\n</div>"
     },
     "execution_count": 4,
     "metadata": {},
     "output_type": "execute_result"
    }
   ],
   "source": [
    "df.head()"
   ],
   "metadata": {
    "collapsed": false
   }
  },
  {
   "cell_type": "code",
   "execution_count": 10,
   "outputs": [
    {
     "data": {
      "text/plain": "Index(['rewire_id', 'text', 'label_sexist', 'label_category', 'label_vector'], dtype='object')"
     },
     "execution_count": 10,
     "metadata": {},
     "output_type": "execute_result"
    }
   ],
   "source": [
    "df.columns"
   ],
   "metadata": {
    "collapsed": false
   }
  },
  {
   "cell_type": "code",
   "execution_count": 14,
   "outputs": [
    {
     "name": "stdout",
     "output_type": "stream",
     "text": [
      "{'not sexist': 10602, 'sexist': 3398}\n"
     ]
    }
   ],
   "source": [
    "category_a_labels = set(df[\"label_sexist\"])\n",
    "\n",
    "# compute the frequency of each label\n",
    "label_freq = {}\n",
    "for label in category_a_labels:\n",
    "    label_freq[label] = len(df[df[\"label_sexist\"] == label])\n",
    "\n",
    "pprint(label_freq)"
   ],
   "metadata": {
    "collapsed": false
   }
  },
  {
   "cell_type": "code",
   "execution_count": 15,
   "outputs": [
    {
     "name": "stdout",
     "output_type": "stream",
     "text": [
      "{'1. threats, plans to harm and incitement': 310,\n",
      " '2. derogation': 1590,\n",
      " '3. animosity': 1165,\n",
      " '4. prejudiced discussions': 333,\n",
      " 'none': 10602}\n"
     ]
    }
   ],
   "source": [
    "category_b_labels = set(df[\"label_category\"])\n",
    "\n",
    "# compute the frequency of each label\n",
    "label_freq = {}\n",
    "for label in category_b_labels:\n",
    "    label_freq[label] = len(df[df[\"label_category\"] == label])\n",
    "\n",
    "pprint(label_freq)"
   ],
   "metadata": {
    "collapsed": false
   }
  },
  {
   "cell_type": "code",
   "execution_count": 16,
   "outputs": [
    {
     "name": "stdout",
     "output_type": "stream",
     "text": [
      "{'1.1 threats of harm': 56,\n",
      " '1.2 incitement and encouragement of harm': 254,\n",
      " '2.1 descriptive attacks': 717,\n",
      " '2.2 aggressive and emotive attacks': 673,\n",
      " '2.3 dehumanising attacks & overt sexual objectification': 200,\n",
      " '3.1 casual use of gendered slurs, profanities, and insults': 637,\n",
      " '3.2 immutable gender differences and gender stereotypes': 417,\n",
      " '3.3 backhanded gendered compliments': 64,\n",
      " '3.4 condescending explanations or unwelcome advice': 47,\n",
      " '4.1 supporting mistreatment of individual women': 75,\n",
      " '4.2 supporting systemic discrimination against women as a group': 258,\n",
      " 'none': 10602}\n"
     ]
    }
   ],
   "source": [
    "category_c_labels = set(df[\"label_vector\"])\n",
    "\n",
    "# compute the frequency of each label\n",
    "label_freq = {}\n",
    "for label in category_c_labels:\n",
    "    label_freq[label] = len(df[df[\"label_vector\"] == label])\n",
    "\n",
    "pprint(label_freq)"
   ],
   "metadata": {
    "collapsed": false
   }
  },
  {
   "cell_type": "code",
   "execution_count": null,
   "outputs": [],
   "source": [],
   "metadata": {
    "collapsed": false
   }
  }
 ],
 "metadata": {
  "kernelspec": {
   "display_name": "Python 3",
   "language": "python",
   "name": "python3"
  },
  "language_info": {
   "codemirror_mode": {
    "name": "ipython",
    "version": 2
   },
   "file_extension": ".py",
   "mimetype": "text/x-python",
   "name": "python",
   "nbconvert_exporter": "python",
   "pygments_lexer": "ipython2",
   "version": "2.7.6"
  }
 },
 "nbformat": 4,
 "nbformat_minor": 0
}
