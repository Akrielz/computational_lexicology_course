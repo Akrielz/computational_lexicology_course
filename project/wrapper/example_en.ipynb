{
 "cells": [
  {
   "cell_type": "code",
   "execution_count": 1,
   "metadata": {
    "collapsed": true
   },
   "outputs": [],
   "source": [
    "import torch\n",
    "\n",
    "from sexist_bert_wrapper import SexistBert"
   ]
  },
  {
   "cell_type": "code",
   "execution_count": 2,
   "outputs": [],
   "source": [
    "inputs = [\n",
    "    \"hello world!\",\n",
    "    \"women are the worst\",\n",
    "    \"all women should die!\",\n",
    "    \"hello world 2!\"\n",
    "]"
   ],
   "metadata": {
    "collapsed": false
   }
  },
  {
   "cell_type": "code",
   "execution_count": 3,
   "outputs": [
    {
     "data": {
      "text/plain": "['not sexist', 'sexist', 'sexist', 'not sexist']"
     },
     "execution_count": 3,
     "metadata": {},
     "output_type": "execute_result"
    }
   ],
   "source": [
    "sexist_bert = SexistBert(\"binary\", batch_size=16, device=torch.device(\"cuda\"))\n",
    "results = sexist_bert(inputs)\n",
    "results"
   ],
   "metadata": {
    "collapsed": false
   }
  },
  {
   "cell_type": "code",
   "execution_count": 4,
   "outputs": [
    {
     "data": {
      "text/plain": "['not sexist',\n '2. derogation',\n '1. threats, plans to harm and incitement',\n 'not sexist']"
     },
     "execution_count": 4,
     "metadata": {},
     "output_type": "execute_result"
    }
   ],
   "source": [
    "sexist_bert = SexistBert(\"category\", batch_size=16, device=torch.device(\"cuda\"))\n",
    "results = sexist_bert(inputs)\n",
    "results"
   ],
   "metadata": {
    "collapsed": false
   }
  },
  {
   "cell_type": "code",
   "execution_count": 5,
   "outputs": [
    {
     "data": {
      "text/plain": "['not sexist',\n '2.1 descriptive attacks',\n '1.2 incitement and encouragement of harm',\n 'not sexist']"
     },
     "execution_count": 5,
     "metadata": {},
     "output_type": "execute_result"
    }
   ],
   "source": [
    "sexist_bert = SexistBert(\"specific\", batch_size=16, device=torch.device(\"cuda\"))\n",
    "results = sexist_bert(inputs)\n",
    "results"
   ],
   "metadata": {
    "collapsed": false
   }
  },
  {
   "cell_type": "code",
   "execution_count": null,
   "outputs": [],
   "source": [],
   "metadata": {
    "collapsed": false
   }
  }
 ],
 "metadata": {
  "kernelspec": {
   "display_name": "Python 3",
   "language": "python",
   "name": "python3"
  },
  "language_info": {
   "codemirror_mode": {
    "name": "ipython",
    "version": 2
   },
   "file_extension": ".py",
   "mimetype": "text/x-python",
   "name": "python",
   "nbconvert_exporter": "python",
   "pygments_lexer": "ipython2",
   "version": "2.7.6"
  }
 },
 "nbformat": 4,
 "nbformat_minor": 0
}
