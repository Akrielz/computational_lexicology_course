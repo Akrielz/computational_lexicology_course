{
 "cells": [
  {
   "cell_type": "code",
   "execution_count": 128,
   "metadata": {
    "collapsed": true
   },
   "outputs": [],
   "source": [
    "import pickle\n",
    "\n",
    "import numpy as np\n",
    "import pandas as pd\n",
    "import torch\n",
    "from torchmetrics.classification import BinaryAccuracy\n",
    "\n",
    "from project.pipeline.balance_data import balance_data_indices\n",
    "from project.pipeline.data_loader import DataLoader"
   ]
  },
  {
   "cell_type": "code",
   "execution_count": 129,
   "outputs": [],
   "source": [
    "with open('toxic_bert_results.pickle', 'rb') as handle:\n",
    "    toxic_bert_results = pickle.load(handle)"
   ],
   "metadata": {
    "collapsed": false
   }
  },
  {
   "cell_type": "code",
   "execution_count": 130,
   "outputs": [
    {
     "data": {
      "text/plain": "   toxicity  severe_toxicity   obscene    threat    insult  identity_attack\n0  0.671682         0.006681  0.603532  0.000814  0.016570         0.000918\n1  0.913387         0.026864  0.206393  0.006488  0.428129         0.611231\n2  0.998545         0.451745  0.993932  0.006212  0.917578         0.058288\n3  0.012694         0.000109  0.000558  0.000169  0.000580         0.000266\n4  0.905675         0.033990  0.168355  0.059374  0.110174         0.495062",
      "text/html": "<div>\n<style scoped>\n    .dataframe tbody tr th:only-of-type {\n        vertical-align: middle;\n    }\n\n    .dataframe tbody tr th {\n        vertical-align: top;\n    }\n\n    .dataframe thead th {\n        text-align: right;\n    }\n</style>\n<table border=\"1\" class=\"dataframe\">\n  <thead>\n    <tr style=\"text-align: right;\">\n      <th></th>\n      <th>toxicity</th>\n      <th>severe_toxicity</th>\n      <th>obscene</th>\n      <th>threat</th>\n      <th>insult</th>\n      <th>identity_attack</th>\n    </tr>\n  </thead>\n  <tbody>\n    <tr>\n      <th>0</th>\n      <td>0.671682</td>\n      <td>0.006681</td>\n      <td>0.603532</td>\n      <td>0.000814</td>\n      <td>0.016570</td>\n      <td>0.000918</td>\n    </tr>\n    <tr>\n      <th>1</th>\n      <td>0.913387</td>\n      <td>0.026864</td>\n      <td>0.206393</td>\n      <td>0.006488</td>\n      <td>0.428129</td>\n      <td>0.611231</td>\n    </tr>\n    <tr>\n      <th>2</th>\n      <td>0.998545</td>\n      <td>0.451745</td>\n      <td>0.993932</td>\n      <td>0.006212</td>\n      <td>0.917578</td>\n      <td>0.058288</td>\n    </tr>\n    <tr>\n      <th>3</th>\n      <td>0.012694</td>\n      <td>0.000109</td>\n      <td>0.000558</td>\n      <td>0.000169</td>\n      <td>0.000580</td>\n      <td>0.000266</td>\n    </tr>\n    <tr>\n      <th>4</th>\n      <td>0.905675</td>\n      <td>0.033990</td>\n      <td>0.168355</td>\n      <td>0.059374</td>\n      <td>0.110174</td>\n      <td>0.495062</td>\n    </tr>\n  </tbody>\n</table>\n</div>"
     },
     "execution_count": 130,
     "metadata": {},
     "output_type": "execute_result"
    }
   ],
   "source": [
    "df_results = pd.DataFrame(toxic_bert_results)\n",
    "df_results.head()"
   ],
   "metadata": {
    "collapsed": false
   }
  },
  {
   "cell_type": "code",
   "execution_count": 131,
   "outputs": [],
   "source": [
    "def sexist_heuristic(row):\n",
    "    values = list(row.values)\n",
    "    values = np.array(values)\n",
    "    sexist = np.any(values >= 0.3)\n",
    "    return sexist"
   ],
   "metadata": {
    "collapsed": false
   }
  },
  {
   "cell_type": "code",
   "execution_count": 132,
   "outputs": [
    {
     "data": {
      "text/plain": "   toxicity  severe_toxicity   obscene    threat    insult  identity_attack  \\\n0  0.671682         0.006681  0.603532  0.000814  0.016570         0.000918   \n1  0.913387         0.026864  0.206393  0.006488  0.428129         0.611231   \n2  0.998545         0.451745  0.993932  0.006212  0.917578         0.058288   \n3  0.012694         0.000109  0.000558  0.000169  0.000580         0.000266   \n4  0.905675         0.033990  0.168355  0.059374  0.110174         0.495062   \n\n   sexist  \n0    True  \n1    True  \n2    True  \n3   False  \n4    True  ",
      "text/html": "<div>\n<style scoped>\n    .dataframe tbody tr th:only-of-type {\n        vertical-align: middle;\n    }\n\n    .dataframe tbody tr th {\n        vertical-align: top;\n    }\n\n    .dataframe thead th {\n        text-align: right;\n    }\n</style>\n<table border=\"1\" class=\"dataframe\">\n  <thead>\n    <tr style=\"text-align: right;\">\n      <th></th>\n      <th>toxicity</th>\n      <th>severe_toxicity</th>\n      <th>obscene</th>\n      <th>threat</th>\n      <th>insult</th>\n      <th>identity_attack</th>\n      <th>sexist</th>\n    </tr>\n  </thead>\n  <tbody>\n    <tr>\n      <th>0</th>\n      <td>0.671682</td>\n      <td>0.006681</td>\n      <td>0.603532</td>\n      <td>0.000814</td>\n      <td>0.016570</td>\n      <td>0.000918</td>\n      <td>True</td>\n    </tr>\n    <tr>\n      <th>1</th>\n      <td>0.913387</td>\n      <td>0.026864</td>\n      <td>0.206393</td>\n      <td>0.006488</td>\n      <td>0.428129</td>\n      <td>0.611231</td>\n      <td>True</td>\n    </tr>\n    <tr>\n      <th>2</th>\n      <td>0.998545</td>\n      <td>0.451745</td>\n      <td>0.993932</td>\n      <td>0.006212</td>\n      <td>0.917578</td>\n      <td>0.058288</td>\n      <td>True</td>\n    </tr>\n    <tr>\n      <th>3</th>\n      <td>0.012694</td>\n      <td>0.000109</td>\n      <td>0.000558</td>\n      <td>0.000169</td>\n      <td>0.000580</td>\n      <td>0.000266</td>\n      <td>False</td>\n    </tr>\n    <tr>\n      <th>4</th>\n      <td>0.905675</td>\n      <td>0.033990</td>\n      <td>0.168355</td>\n      <td>0.059374</td>\n      <td>0.110174</td>\n      <td>0.495062</td>\n      <td>True</td>\n    </tr>\n  </tbody>\n</table>\n</div>"
     },
     "execution_count": 132,
     "metadata": {},
     "output_type": "execute_result"
    }
   ],
   "source": [
    "df_results['sexist'] = df_results.apply(sexist_heuristic, axis=1)\n",
    "df_results.head()"
   ],
   "metadata": {
    "collapsed": false
   }
  },
  {
   "cell_type": "code",
   "execution_count": 133,
   "outputs": [
    {
     "data": {
      "text/plain": "                  rewire_id  \\\n0   sexism2022_english-7358   \n1   sexism2022_english-2367   \n2   sexism2022_english-3073   \n3  sexism2022_english-14895   \n4   sexism2022_english-4118   \n\n                                                text label_sexist  \\\n0              Damn, this writing was pretty chaotic   not sexist   \n1  Yeah, and apparently a bunch of misogynistic v...   not sexist   \n2       How the FUCK is this woman still an MP!!!???   not sexist   \n3  Understand. Know you're right. At same time I ...   not sexist   \n4     Surprized they didn't stop and rape some women   not sexist   \n\n  label_category label_vector  \n0           none         none  \n1           none         none  \n2           none         none  \n3           none         none  \n4           none         none  ",
      "text/html": "<div>\n<style scoped>\n    .dataframe tbody tr th:only-of-type {\n        vertical-align: middle;\n    }\n\n    .dataframe tbody tr th {\n        vertical-align: top;\n    }\n\n    .dataframe thead th {\n        text-align: right;\n    }\n</style>\n<table border=\"1\" class=\"dataframe\">\n  <thead>\n    <tr style=\"text-align: right;\">\n      <th></th>\n      <th>rewire_id</th>\n      <th>text</th>\n      <th>label_sexist</th>\n      <th>label_category</th>\n      <th>label_vector</th>\n    </tr>\n  </thead>\n  <tbody>\n    <tr>\n      <th>0</th>\n      <td>sexism2022_english-7358</td>\n      <td>Damn, this writing was pretty chaotic</td>\n      <td>not sexist</td>\n      <td>none</td>\n      <td>none</td>\n    </tr>\n    <tr>\n      <th>1</th>\n      <td>sexism2022_english-2367</td>\n      <td>Yeah, and apparently a bunch of misogynistic v...</td>\n      <td>not sexist</td>\n      <td>none</td>\n      <td>none</td>\n    </tr>\n    <tr>\n      <th>2</th>\n      <td>sexism2022_english-3073</td>\n      <td>How the FUCK is this woman still an MP!!!???</td>\n      <td>not sexist</td>\n      <td>none</td>\n      <td>none</td>\n    </tr>\n    <tr>\n      <th>3</th>\n      <td>sexism2022_english-14895</td>\n      <td>Understand. Know you're right. At same time I ...</td>\n      <td>not sexist</td>\n      <td>none</td>\n      <td>none</td>\n    </tr>\n    <tr>\n      <th>4</th>\n      <td>sexism2022_english-4118</td>\n      <td>Surprized they didn't stop and rape some women</td>\n      <td>not sexist</td>\n      <td>none</td>\n      <td>none</td>\n    </tr>\n  </tbody>\n</table>\n</div>"
     },
     "execution_count": 133,
     "metadata": {},
     "output_type": "execute_result"
    }
   ],
   "source": [
    "df_data = DataLoader().df\n",
    "df_data.head()"
   ],
   "metadata": {
    "collapsed": false
   }
  },
  {
   "cell_type": "code",
   "execution_count": 134,
   "outputs": [],
   "source": [
    "balanced_df_indices = balance_data_indices(df_data, df_data['label_sexist'])"
   ],
   "metadata": {
    "collapsed": false
   }
  },
  {
   "cell_type": "code",
   "execution_count": 135,
   "outputs": [],
   "source": [
    "target = df_data['label_sexist']\n",
    "target = torch.tensor(np.array([entry != \"not sexist\" for entry in target]))\n",
    "predictions = torch.tensor(np.array(df_results['sexist']))"
   ],
   "metadata": {
    "collapsed": false
   }
  },
  {
   "cell_type": "code",
   "execution_count": 138,
   "outputs": [
    {
     "name": "stdout",
     "output_type": "stream",
     "text": [
      "Accuracy on whole dataset: 0.5740714073181152\n"
     ]
    }
   ],
   "source": [
    "metric = BinaryAccuracy()\n",
    "acc = metric(predictions, target)\n",
    "print(f\"Accuracy on whole dataset: {acc}\")"
   ],
   "metadata": {
    "collapsed": false
   }
  },
  {
   "cell_type": "code",
   "execution_count": 140,
   "outputs": [
    {
     "name": "stdout",
     "output_type": "stream",
     "text": [
      "Accuracy on whole dataset with prediction for everything 'non-sexist': 0.7572857141494751\n"
     ]
    }
   ],
   "source": [
    "acc = metric(torch.zeros(len(target)), target)\n",
    "print(f\"Accuracy on whole dataset with prediction for everything 'non-sexist': {acc}\")"
   ],
   "metadata": {
    "collapsed": false
   }
  },
  {
   "cell_type": "code",
   "execution_count": 139,
   "outputs": [
    {
     "name": "stdout",
     "output_type": "stream",
     "text": [
      "Accuracy on balanced dataset: 0.621100664138794\n"
     ]
    }
   ],
   "source": [
    "acc = metric(predictions[balanced_df_indices], target[balanced_df_indices])\n",
    "print(f\"Accuracy on balanced dataset: {acc}\")"
   ],
   "metadata": {
    "collapsed": false
   }
  },
  {
   "cell_type": "code",
   "execution_count": 141,
   "outputs": [
    {
     "name": "stdout",
     "output_type": "stream",
     "text": [
      "Accuracy on balanced dataset with prediction for everything 'non-sexist': 0.5\n"
     ]
    }
   ],
   "source": [
    "acc = metric(torch.zeros(len(target[balanced_df_indices])), target[balanced_df_indices])\n",
    "print(f\"Accuracy on balanced dataset with prediction for everything 'non-sexist': {acc}\")"
   ],
   "metadata": {
    "collapsed": false
   }
  }
 ],
 "metadata": {
  "kernelspec": {
   "display_name": "Python 3",
   "language": "python",
   "name": "python3"
  },
  "language_info": {
   "codemirror_mode": {
    "name": "ipython",
    "version": 2
   },
   "file_extension": ".py",
   "mimetype": "text/x-python",
   "name": "python",
   "nbconvert_exporter": "python",
   "pygments_lexer": "ipython2",
   "version": "2.7.6"
  }
 },
 "nbformat": 4,
 "nbformat_minor": 0
}
