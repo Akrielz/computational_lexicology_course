{
 "cells": [
  {
   "cell_type": "code",
   "execution_count": 39,
   "metadata": {
    "collapsed": true
   },
   "outputs": [],
   "source": [
    "import pickle\n",
    "\n",
    "from detoxify import Detoxify\n",
    "from tqdm import tqdm\n",
    "\n",
    "from project.pipeline.data_loader import DataLoader"
   ]
  },
  {
   "cell_type": "code",
   "execution_count": 30,
   "outputs": [
    {
     "name": "stdout",
     "output_type": "stream",
     "text": [
      "Model loaded!\n"
     ]
    }
   ],
   "source": [
    "# create model\n",
    "detoxify_model = Detoxify('original')\n",
    "print(\"Model loaded!\")"
   ],
   "metadata": {
    "collapsed": false
   }
  },
  {
   "cell_type": "code",
   "execution_count": 31,
   "outputs": [
    {
     "name": "stdout",
     "output_type": "stream",
     "text": [
      "cpu\n"
     ]
    }
   ],
   "source": [
    "print(next(detoxify_model.model.parameters()).device)"
   ],
   "metadata": {
    "collapsed": false
   }
  },
  {
   "cell_type": "code",
   "execution_count": 32,
   "outputs": [
    {
     "name": "stdout",
     "output_type": "stream",
     "text": [
      "cuda:0\n"
     ]
    }
   ],
   "source": [
    "detoxify_model.model.to('cuda')\n",
    "print(next(detoxify_model.model.parameters()).device)"
   ],
   "metadata": {
    "collapsed": false
   }
  },
  {
   "cell_type": "code",
   "execution_count": 33,
   "outputs": [
    {
     "name": "stdout",
     "output_type": "stream",
     "text": [
      "104M params\n"
     ]
    }
   ],
   "source": [
    "number_param = sum(param.numel() for param in detoxify_model.model.parameters())\n",
    "print(f\"{number_param // (1024 ** 2)}M params\")"
   ],
   "metadata": {
    "collapsed": false
   }
  },
  {
   "cell_type": "code",
   "execution_count": 34,
   "outputs": [],
   "source": [
    "# load the data\n",
    "data_path = \"../data/train_all_tasks.csv\"\n",
    "data_loader = DataLoader(data_path=data_path, batch_size=16)"
   ],
   "metadata": {
    "collapsed": false
   }
  },
  {
   "cell_type": "code",
   "execution_count": 37,
   "outputs": [
    {
     "name": "stderr",
     "output_type": "stream",
     "text": [
      "100%|██████████| 875/875 [01:32<00:00,  9.44it/s]\n"
     ]
    }
   ],
   "source": [
    "original_results = []\n",
    "\n",
    "for batch in tqdm(data_loader):\n",
    "    # extract text\n",
    "    text = list(batch['text'].values)\n",
    "\n",
    "    # get results from toxic bert\n",
    "    results = detoxify_model.predict(text)\n",
    "    original_results.append(results)"
   ],
   "metadata": {
    "collapsed": false
   }
  },
  {
   "cell_type": "code",
   "execution_count": 38,
   "outputs": [],
   "source": [
    "# results are a list[dict[str, list[float]]]\n",
    "# convert to dict[str, list[float]]\n",
    "\n",
    "# get the keys\n",
    "keys = list(original_results[0].keys())\n",
    "\n",
    "# create a dict\n",
    "original_results_dict = {key: [] for key in keys}\n",
    "\n",
    "# iterate the results\n",
    "for result in original_results:\n",
    "    for key in keys:\n",
    "        original_results_dict[key].extend(result[key])"
   ],
   "metadata": {
    "collapsed": false
   }
  },
  {
   "cell_type": "code",
   "execution_count": 40,
   "outputs": [],
   "source": [
    "with open('../cached/toxic_bert_results.pickle', 'wb') as handle:\n",
    "    pickle.dump(original_results_dict, handle, protocol=pickle.HIGHEST_PROTOCOL)"
   ],
   "metadata": {
    "collapsed": false
   }
  }
 ],
 "metadata": {
  "kernelspec": {
   "display_name": "Python 3",
   "language": "python",
   "name": "python3"
  },
  "language_info": {
   "codemirror_mode": {
    "name": "ipython",
    "version": 2
   },
   "file_extension": ".py",
   "mimetype": "text/x-python",
   "name": "python",
   "nbconvert_exporter": "python",
   "pygments_lexer": "ipython2",
   "version": "2.7.6"
  }
 },
 "nbformat": 4,
 "nbformat_minor": 0
}
