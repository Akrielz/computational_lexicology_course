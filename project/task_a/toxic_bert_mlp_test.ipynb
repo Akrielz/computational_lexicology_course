{
 "cells": [
  {
   "cell_type": "code",
   "execution_count": 19,
   "metadata": {
    "collapsed": true
   },
   "outputs": [],
   "source": [
    "import torch\n",
    "from detoxify import Detoxify\n",
    "from einops import rearrange\n",
    "\n",
    "from project.task_a.train_mlp import build_model"
   ]
  },
  {
   "cell_type": "code",
   "execution_count": 20,
   "outputs": [
    {
     "name": "stdout",
     "output_type": "stream",
     "text": [
      "Model Loaded\n"
     ]
    }
   ],
   "source": [
    "# create model\n",
    "detoxify_model = Detoxify('original', device=\"cuda\")\n",
    "print(\"Model Loaded\")"
   ],
   "metadata": {
    "collapsed": false
   }
  },
  {
   "cell_type": "code",
   "execution_count": 56,
   "outputs": [
    {
     "name": "stdout",
     "output_type": "stream",
     "text": [
      "Model Loaded 2\n"
     ]
    }
   ],
   "source": [
    "model_path = \"../trained_agents/feed_forward.pt\"\n",
    "mlp = build_model(model_path)\n",
    "mlp.eval()\n",
    "print(\"Model Loaded 2\")"
   ],
   "metadata": {
    "collapsed": false
   }
  },
  {
   "cell_type": "code",
   "execution_count": 85,
   "outputs": [
    {
     "name": "stdout",
     "output_type": "stream",
     "text": [
      "Your comment is sexist, sexist_level: 0.6539974212646484\n"
     ]
    }
   ],
   "source": [
    "text = \"You are a jew nigger fucking slave\"\n",
    "\n",
    "features = detoxify_model.predict(text)\n",
    "features = torch.tensor(list(features.values()))\n",
    "features = rearrange(features, \"f -> 1 f\")\n",
    "sexist_level = mlp(features)[0]\n",
    "is_sexist = sexist_level >= 0.5\n",
    "is_sexist = is_sexist.item()\n",
    "\n",
    "if is_sexist:\n",
    "    print(f\"Your comment is sexist, sexist_level: {sexist_level.item()}\")\n",
    "else:\n",
    "    print(f\"Your comment is not sexist, sexist_level: {sexist_level.item()}\")"
   ],
   "metadata": {
    "collapsed": false
   }
  },
  {
   "cell_type": "code",
   "execution_count": null,
   "outputs": [],
   "source": [],
   "metadata": {
    "collapsed": false
   }
  }
 ],
 "metadata": {
  "kernelspec": {
   "display_name": "Python 3",
   "language": "python",
   "name": "python3"
  },
  "language_info": {
   "codemirror_mode": {
    "name": "ipython",
    "version": 2
   },
   "file_extension": ".py",
   "mimetype": "text/x-python",
   "name": "python",
   "nbconvert_exporter": "python",
   "pygments_lexer": "ipython2",
   "version": "2.7.6"
  }
 },
 "nbformat": 4,
 "nbformat_minor": 0
}
