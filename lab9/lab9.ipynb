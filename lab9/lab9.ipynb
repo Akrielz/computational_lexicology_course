{
 "cells": [
  {
   "cell_type": "code",
   "execution_count": 11,
   "metadata": {
    "collapsed": true
   },
   "outputs": [],
   "source": [
    "import nltk"
   ]
  },
  {
   "cell_type": "code",
   "execution_count": 17,
   "outputs": [],
   "source": [
    "grammar = \"\"\"\n",
    "    S -> NP VP\n",
    "    NP -> NN\n",
    "    VP -> VBD NP\n",
    "    NP -> Det NP\n",
    "    NP -> NN PP\n",
    "    NP -> DET NN\n",
    "    PP -> P NP\n",
    "    NN -> 'I'\n",
    "    NN -> 'rainbow'\n",
    "    NN -> 'lake'\n",
    "    VBD -> 'draw'\n",
    "    Det -> 'the'\n",
    "    P -> 'on'\n",
    "\n",
    "    S -> S PP\n",
    "\n",
    "    PP -> P NN\n",
    "    NN -> 'Anna'\n",
    "    P -> 'and'\n",
    "    NN -> 'Peter'\n",
    "    VBD -> 'draw'\n",
    "    NP -> 'us'\n",
    "\n",
    "    S -> S NP\n",
    "    VP -> VBD\n",
    "\n",
    "    NP -> NNS PP\n",
    "    NP -> 'We'\n",
    "    VBD -> 'ate'\n",
    "    NN -> 'octopus'\n",
    "    P -> 'and'\n",
    "    NNS -> 'shells'\n",
    "    P -> 'for'\n",
    "    NN -> 'dinner'\n",
    "\n",
    "    PP -> P NNS\n",
    "    \"\"\""
   ],
   "metadata": {
    "collapsed": false
   }
  },
  {
   "cell_type": "code",
   "execution_count": 13,
   "outputs": [],
   "source": [
    "nltk_grammar = nltk.CFG.fromstring(grammar)\n",
    "parser = nltk.ChartParser(nltk_grammar)"
   ],
   "metadata": {
    "collapsed": false
   }
  },
  {
   "cell_type": "code",
   "execution_count": 14,
   "outputs": [
    {
     "name": "stdout",
     "output_type": "stream",
     "text": [
      "(S\n",
      "  (S\n",
      "    (S (NP (NN I)) (VP (VBD draw)))\n",
      "    (NP (Det the) (NP (NN rainbow))))\n",
      "  (PP (P on) (NP (Det the) (NP (NN lake)))))\n",
      "(S\n",
      "  (S (NP (NN I)) (VP (VBD draw) (NP (Det the) (NP (NN rainbow)))))\n",
      "  (PP (P on) (NP (Det the) (NP (NN lake)))))\n",
      "(S\n",
      "  (S (NP (NN I)) (VP (VBD draw)))\n",
      "  (NP\n",
      "    (Det the)\n",
      "    (NP (NN rainbow) (PP (P on) (NP (Det the) (NP (NN lake)))))))\n",
      "(S\n",
      "  (NP (NN I))\n",
      "  (VP\n",
      "    (VBD draw)\n",
      "    (NP\n",
      "      (Det the)\n",
      "      (NP (NN rainbow) (PP (P on) (NP (Det the) (NP (NN lake))))))))\n"
     ]
    }
   ],
   "source": [
    "sentence = \"I draw the rainbow on the lake\".split()\n",
    "for tree in parser.parse(sentence):\n",
    "    print(tree)"
   ],
   "metadata": {
    "collapsed": false
   }
  },
  {
   "cell_type": "code",
   "execution_count": 15,
   "outputs": [
    {
     "name": "stdout",
     "output_type": "stream",
     "text": [
      "(S\n",
      "  (S (NP (NN Anna) (PP (P and) (NN Peter))) (VP (VBD draw)))\n",
      "  (NP us))\n",
      "(S\n",
      "  (S (NP (NN Anna) (PP (P and) (NP (NN Peter)))) (VP (VBD draw)))\n",
      "  (NP us))\n",
      "(S (NP (NN Anna) (PP (P and) (NN Peter))) (VP (VBD draw) (NP us)))\n",
      "(S\n",
      "  (NP (NN Anna) (PP (P and) (NP (NN Peter))))\n",
      "  (VP (VBD draw) (NP us)))\n"
     ]
    }
   ],
   "source": [
    "sentence = \"Anna and Peter draw us\".split()\n",
    "for tree in parser.parse(sentence):\n",
    "    print(tree)"
   ],
   "metadata": {
    "collapsed": false
   }
  },
  {
   "cell_type": "code",
   "execution_count": 16,
   "outputs": [
    {
     "name": "stdout",
     "output_type": "stream",
     "text": [
      "(S\n",
      "  (S\n",
      "    (S (S (NP We) (VP (VBD ate))) (NP (NN octopus)))\n",
      "    (PP (P and) (NNS shells)))\n",
      "  (PP (P for) (NN dinner)))\n",
      "(S\n",
      "  (S\n",
      "    (S (NP We) (VP (VBD ate) (NP (NN octopus))))\n",
      "    (PP (P and) (NNS shells)))\n",
      "  (PP (P for) (NN dinner)))\n",
      "(S\n",
      "  (S\n",
      "    (S (NP We) (VP (VBD ate)))\n",
      "    (NP (NN octopus) (PP (P and) (NNS shells))))\n",
      "  (PP (P for) (NN dinner)))\n",
      "(S\n",
      "  (S\n",
      "    (NP We)\n",
      "    (VP (VBD ate) (NP (NN octopus) (PP (P and) (NNS shells)))))\n",
      "  (PP (P for) (NN dinner)))\n",
      "(S\n",
      "  (S (S (NP We) (VP (VBD ate))) (NP (NN octopus)))\n",
      "  (PP (P and) (NP (NNS shells) (PP (P for) (NN dinner)))))\n",
      "(S\n",
      "  (S (S (NP We) (VP (VBD ate))) (NP (NN octopus)))\n",
      "  (PP (P and) (NP (NNS shells) (PP (P for) (NP (NN dinner))))))\n",
      "(S\n",
      "  (S (NP We) (VP (VBD ate) (NP (NN octopus))))\n",
      "  (PP (P and) (NP (NNS shells) (PP (P for) (NN dinner)))))\n",
      "(S\n",
      "  (S (NP We) (VP (VBD ate) (NP (NN octopus))))\n",
      "  (PP (P and) (NP (NNS shells) (PP (P for) (NP (NN dinner))))))\n",
      "(S\n",
      "  (S\n",
      "    (S (S (NP We) (VP (VBD ate))) (NP (NN octopus)))\n",
      "    (PP (P and) (NNS shells)))\n",
      "  (PP (P for) (NP (NN dinner))))\n",
      "(S\n",
      "  (S\n",
      "    (S (NP We) (VP (VBD ate) (NP (NN octopus))))\n",
      "    (PP (P and) (NNS shells)))\n",
      "  (PP (P for) (NP (NN dinner))))\n",
      "(S\n",
      "  (S\n",
      "    (S (NP We) (VP (VBD ate)))\n",
      "    (NP (NN octopus) (PP (P and) (NNS shells))))\n",
      "  (PP (P for) (NP (NN dinner))))\n",
      "(S\n",
      "  (S\n",
      "    (NP We)\n",
      "    (VP (VBD ate) (NP (NN octopus) (PP (P and) (NNS shells)))))\n",
      "  (PP (P for) (NP (NN dinner))))\n",
      "(S\n",
      "  (S (NP We) (VP (VBD ate)))\n",
      "  (NP\n",
      "    (NN octopus)\n",
      "    (PP (P and) (NP (NNS shells) (PP (P for) (NN dinner))))))\n",
      "(S\n",
      "  (S (NP We) (VP (VBD ate)))\n",
      "  (NP\n",
      "    (NN octopus)\n",
      "    (PP (P and) (NP (NNS shells) (PP (P for) (NP (NN dinner)))))))\n",
      "(S\n",
      "  (NP We)\n",
      "  (VP\n",
      "    (VBD ate)\n",
      "    (NP\n",
      "      (NN octopus)\n",
      "      (PP (P and) (NP (NNS shells) (PP (P for) (NN dinner)))))))\n",
      "(S\n",
      "  (NP We)\n",
      "  (VP\n",
      "    (VBD ate)\n",
      "    (NP\n",
      "      (NN octopus)\n",
      "      (PP (P and) (NP (NNS shells) (PP (P for) (NP (NN dinner))))))))\n"
     ]
    }
   ],
   "source": [
    "sentence = \"We ate octopus and shells for dinner\".split()\n",
    "for tree in parser.parse(sentence):\n",
    "    print(tree)"
   ],
   "metadata": {
    "collapsed": false
   }
  },
  {
   "cell_type": "code",
   "execution_count": null,
   "outputs": [],
   "source": [],
   "metadata": {
    "collapsed": false
   }
  }
 ],
 "metadata": {
  "kernelspec": {
   "display_name": "Python 3",
   "language": "python",
   "name": "python3"
  },
  "language_info": {
   "codemirror_mode": {
    "name": "ipython",
    "version": 2
   },
   "file_extension": ".py",
   "mimetype": "text/x-python",
   "name": "python",
   "nbconvert_exporter": "python",
   "pygments_lexer": "ipython2",
   "version": "2.7.6"
  }
 },
 "nbformat": 4,
 "nbformat_minor": 0
}
